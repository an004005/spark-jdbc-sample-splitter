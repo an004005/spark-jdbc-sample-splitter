{
 "cells": [
  {
   "cell_type": "markdown",
   "id": "91427ccf",
   "metadata": {},
   "source": [
    "# Test splitting data by sampling"
   ]
  },
  {
   "cell_type": "code",
   "execution_count": 1,
   "id": "300a63da",
   "metadata": {},
   "outputs": [],
   "source": [
    "from matplotlib import pyplot as plt\n",
    "import numpy as np\n",
    "import random"
   ]
  },
  {
   "cell_type": "markdown",
   "id": "cd8d36a5",
   "metadata": {},
   "source": [
    "## Make unevenly distributed data\n",
    "make test data and show graph"
   ]
  },
  {
   "cell_type": "code",
   "execution_count": 2,
   "id": "97535bca",
   "metadata": {},
   "outputs": [],
   "source": [
    "uneven_distribution = np.concatenate([\n",
    "    np.random.uniform(0,100, [4000]),\n",
    "    np.random.uniform(0,10, [3000]),\n",
    "    np.random.uniform(15,20, [1000]),\n",
    "    np.random.uniform(50,90, [1000]),\n",
    "    np.random.uniform(30,40, [1000]),\n",
    "])"
   ]
  },
  {
   "cell_type": "code",
   "execution_count": 3,
   "id": "1d489db3",
   "metadata": {},
   "outputs": [
    {
     "data": {
      "image/png": "[encoded data removed]",
      "text/plain": [
       "<Figure size 500x300 with 1 Axes>"
      ]
     },
     "metadata": {
      "needs_background": "light"
     },
     "output_type": "display_data"
    }
   ],
   "source": [
    "%matplotlib inline\n",
    "plt.rcParams.update({'figure.figsize':(5,3), 'figure.dpi':100})\n",
    "\n",
    "plt.hist(uneven_distribution, bins=50)\n",
    "plt.gca().set(title='unevenly distributed data graph', ylabel='Frequency', xlabel='value');"
   ]
  },
  {
   "cell_type": "markdown",
   "id": "0463352d",
   "metadata": {},
   "source": [
    "## Spliting the test data on spark way\n",
    "split the test data into 5 partition in same interval"
   ]
  },
  {
   "cell_type": "code",
   "execution_count": 4,
   "id": "e9a00ceb",
   "metadata": {},
   "outputs": [
    {
     "name": "stdout",
     "output_type": "stream",
     "text": [
      "ideal partition size : 2000\n",
      "real partition size: 4796, 1781, 1013, 1307, 1103\n"
     ]
    }
   ],
   "source": [
    "lowerBound = min(uneven_distribution)\n",
    "upperBound = max(uneven_distribution)\n",
    "numPartitions = 5\n",
    "\n",
    "stride = (upperBound - lowerBound) / numPartitions\n",
    "partitions = []\n",
    "\n",
    "for i in range(numPartitions):\n",
    "    if i == 0:\n",
    "        left = lowerBound\n",
    "    else:\n",
    "        left = i * stride\n",
    "    \n",
    "    if i == numPartitions - 1:\n",
    "        right = upperBound\n",
    "    else :\n",
    "        right = (i + 1) * stride\n",
    "    partitions.append(len([e for e in uneven_distribution if left <= e <= right]))\n",
    "\n",
    "    \n",
    "print(\"ideal partition size : 2000\")\n",
    "print(\"real partition size: \" + ', '.join(str(e) for e in partitions))"
   ]
  },
  {
   "cell_type": "markdown",
   "id": "503026cd",
   "metadata": {},
   "source": [
    "## Spliting the test data on sampling\n",
    "split the test data into 5 partition in sampling "
   ]
  },
  {
   "cell_type": "code",
   "execution_count": 5,
   "id": "bb37213c",
   "metadata": {},
   "outputs": [
    {
     "name": "stdout",
     "output_type": "stream",
     "text": [
      "ideal partition size : 2000\n",
      "partition size when sample size is 30: 2357, 2810, 1073, 1993, 1767\n",
      "partition size when sample size is 300: 2053, 1792, 2210, 1961, 1984\n",
      "partition size when sample size is 1000: 1775, 2177, 1951, 1933, 2164\n"
     ]
    }
   ],
   "source": [
    "def sampling(numSamples):\n",
    "    numPartitions = 5\n",
    "    numTotal = len(uneven_distribution)\n",
    "    samples = sorted(np.random.choice(uneven_distribution, numSamples))\n",
    "\n",
    "    numBetweenPartition = int(numSamples / numPartitions)\n",
    "    partitionPoints = []\n",
    "\n",
    "    for i in range(numBetweenPartition, numSamples, numBetweenPartition):\n",
    "        partitionPoints.append(samples[i])\n",
    "\n",
    "    partitions = []\n",
    "    pointLen = len(partitionPoints)\n",
    "    for i in range(pointLen + 1):\n",
    "        if i == 0:\n",
    "            partitions.append(len([e for e in uneven_distribution if e <= partitionPoints[i]]))\n",
    "        elif i == pointLen:\n",
    "            partitions.append(len([e for e in uneven_distribution if partitionPoints[i - 1] < e]))\n",
    "        else:\n",
    "            partitions.append(len([e for e in uneven_distribution if partitionPoints[i - 1] < e <= partitionPoints[i]]))\n",
    "\n",
    "    return partitions\n",
    "    \n",
    "                 \n",
    "print(\"ideal partition size : 2000\")\n",
    "print(\"partition size when sample size is 30: \" + ', '.join(str(e) for e in sampling(30)))\n",
    "print(\"partition size when sample size is 300: \" + ', '.join(str(e) for e in sampling(300)))\n",
    "print(\"partition size when sample size is 1000: \" + ', '.join(str(e) for e in sampling(1000)))"
   ]
  },
  {
   "cell_type": "code",
   "execution_count": 6,
   "id": "2ea9b296",
   "metadata": {},
   "outputs": [],
   "source": [
    "partitions_30samples = []\n",
    "for i in range(30):\n",
    "    partitions_30samples += sampling(30)\n",
    "    \n",
    "partitions_300samples = []\n",
    "for i in range(30):\n",
    "    partitions_300samples += sampling(300)"
   ]
  },
  {
   "cell_type": "code",
   "execution_count": 7,
   "id": "6a6f08f0",
   "metadata": {},
   "outputs": [],
   "source": [
    "def roundup(x):\n",
    "    return int(round(x / 100) * 100)"
   ]
  },
  {
   "cell_type": "code",
   "execution_count": 8,
   "id": "e005d06e",
   "metadata": {},
   "outputs": [
    {
     "data": {
      "image/png": "[encoded data removed]",
      "text/plain": [
       "<Figure size 432x288 with 1 Axes>"
      ]
     },
     "metadata": {
      "needs_background": "light"
     },
     "output_type": "display_data"
    }
   ],
   "source": [
    "%matplotlib inline\n",
    "\n",
    "plt.hist(partitions_30samples, bins=10)\n",
    "plt.gca().set(title='unevenly distributed data graph', ylabel='Frequency', xlabel='partition size');"
   ]
  },
  {
   "cell_type": "code",
   "execution_count": 10,
   "id": "a8955e60",
   "metadata": {},
   "outputs": [
    {
     "data": {
      "image/png": "[encoded data removed]",
      "text/plain": [
       "<Figure size 432x288 with 1 Axes>"
      ]
     },
     "metadata": {
      "needs_background": "light"
     },
     "output_type": "display_data"
    }
   ],
   "source": [
    "%matplotlib inline\n",
    "partitions_300samples_round = [roundup(i) for i in partitions_300samples]\n",
    "\n",
    "\n",
    "plt.hist(partitions_300samples, bins=10)\n",
    "plt.gca().set(title='unevenly distributed data graph', ylabel='Frequency', xlabel='value');"
   ]
  },
  {
   "cell_type": "code",
   "execution_count": 109,
   "id": "f0bf2632",
   "metadata": {},
   "outputs": [
    {
     "name": "stdout",
     "output_type": "stream",
     "text": [
      "[[2048, 1832, 1869, 2555, 1696], [1674, 1950, 2339, 2065, 1972], [2038, 1551, 1721, 2313, 2377], [1951, 1978, 1984, 2386, 1701], [1947, 2349, 2265, 1563, 1876], [2107, 1857, 1728, 2149, 2159], [2000, 1712, 2021, 1894, 2373], [2013, 1801, 2174, 2046, 1966], [1947, 1863, 2258, 1555, 2377], [1872, 1630, 2145, 2234, 2119]]\n",
      "[[2012, 1983, 1180, 3045, 1780], [1998, 2468, 1460, 2832, 1242], [2969, 1847, 2056, 2113, 1015], [2539, 1361, 919, 2061, 3120], [2490, 1794, 2789, 1483, 1444], [1775, 1602, 1659, 2727, 2237], [2047, 1681, 2076, 2421, 1775], [2873, 2208, 1225, 1602, 2092], [2453, 1672, 1281, 3008, 1586], [1590, 3730, 1076, 1644, 1960]]\n"
     ]
    }
   ],
   "source": [
    "print(partitions_300samples)\n",
    "print(partitions_30samples)"
   ]
  },
  {
   "cell_type": "code",
   "execution_count": 119,
   "id": "3273cb29",
   "metadata": {},
   "outputs": [
    {
     "name": "stdout",
     "output_type": "stream",
     "text": [
      "100\n"
     ]
    }
   ],
   "source": [
    "t = 123\n",
    "print(round(t / 100) * 100)"
   ]
  },
  {
   "cell_type": "markdown",
   "id": "0d05d8a3",
   "metadata": {},
   "source": [
    "# Conclusion\n",
    "Spliting the test data in spark way is not work when data is unevenly distributed. However, spliting in sampling work well. Especially, the larger the sample size, the more ideal. "
   ]
  }
 ],
 "metadata": {
  "kernelspec": {
   "display_name": "Python 3 (ipykernel)",
   "language": "python",
   "name": "python3"
  },
  "language_info": {
   "codemirror_mode": {
    "name": "ipython",
    "version": 3
   },
   "file_extension": ".py",
   "mimetype": "text/x-python",
   "name": "python",
   "nbconvert_exporter": "python",
   "pygments_lexer": "ipython3",
   "version": "3.9.7"
  }
 },
 "nbformat": 4,
 "nbformat_minor": 5
}
